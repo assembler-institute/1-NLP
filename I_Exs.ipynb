{
 "cells": [
  {
   "cell_type": "markdown",
   "id": "80958673",
   "metadata": {},
   "source": [
    "# NLP I: Exercises\n",
    "\n",
    "## 1.- Density calculator\n",
    "\n",
    "Create a function that analyzes the desity of the words present in a text.\n",
    "\n",
    "The result must be a table indicating the word, the count, and the density.\n",
    "\n",
    "To test the result, try it with a phrase and with a long text (copy and paste a random wikipedia or newspaper article in a .txt file)"
   ]
  },
  {
   "cell_type": "markdown",
   "id": "dcca2474",
   "metadata": {},
   "source": [
    "## 2.- SPAM detector\n",
    "\n",
    "Create a function that giving an email URL is able to detect if it is spam or not.\n",
    "\n",
    "You can test it using this emails:\n",
    "\n",
    "- https://vgwq.campaign-view.com/ua/viewinbrowser?od=3z76be2304fc1bc51a1bd72c445d4b63701474d74f8db12551960783c3e1a78592&rd=11c4aa5bc740ea1a&sd=11c4aa5bc74aa5db&n=11699e4c2c382ee&mrd=11c4aa5bc74aa5c5&m=1\n",
    "- http://view.mail.360imprimir.es/?qs=240379cda28af83ad8e10007f41fbdc1f01d1b478296dce186feaa145a49a34f23b8a8237db5b919c795c23a8f6d5674a7029b3ea6825c6d72b6ff6ce79263a31674a89eff62e90f6a1f9f8b7debe9ca\n",
    "\n",
    "You can find more links to promotional emails that you've received, perhaps ones that have ended up in your spam or junk folder. Look for a link in the email that usually says something like \"If you can't see this email correctly, click here.\" This will take you to the web version of the email, where you can more easily perform web scraping."
   ]
  },
  {
   "cell_type": "markdown",
   "id": "ae416dc3",
   "metadata": {},
   "source": [
    "## 3.- Web thematic\n",
    "\n",
    "Create a function that giving an URL from a web it's able to detect what that website is about. \n",
    "\n",
    "Have in mind you need to check if the thematic is just one word or several words. Also you should exclude from the thematic the call to action words like subscrive, contact, etc...\n",
    "\n",
    "So the thematic of a web shouldn't be \"lord\" or \"of\" or \"the\" or \"rings\", it istead should be transformed to \"lord of the rings\" as a single thematic."
   ]
  }
 ],
 "metadata": {
  "kernelspec": {
   "display_name": "Python 3 (ipykernel)",
   "language": "python",
   "name": "python3"
  },
  "language_info": {
   "codemirror_mode": {
    "name": "ipython",
    "version": 3
   },
   "file_extension": ".py",
   "mimetype": "text/x-python",
   "name": "python",
   "nbconvert_exporter": "python",
   "pygments_lexer": "ipython3",
   "version": "3.9.7"
  }
 },
 "nbformat": 4,
 "nbformat_minor": 5
}
