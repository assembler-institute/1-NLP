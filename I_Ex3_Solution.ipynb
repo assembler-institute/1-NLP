{
 "cells": [
  {
   "cell_type": "markdown",
   "id": "87c7852e",
   "metadata": {},
   "source": [
    "# DL VI - Exercise 3 solution"
   ]
  },
  {
   "cell_type": "code",
   "execution_count": 1,
   "id": "72406204",
   "metadata": {},
   "outputs": [],
   "source": [
    "from bs4 import BeautifulSoup\n",
    "import urllib.request\n",
    "\n",
    "# NLTK\n",
    "import nltk\n",
    "\n",
    "# NLTK Word Tokenize\n",
    "from nltk.tokenize import word_tokenize\n",
    "\n",
    "# NLTK StopWords\n",
    "from nltk.corpus import stopwords\n",
    "\n",
    "# Spacy\n",
    "import spacy\n",
    "nlp = spacy.load('es_core_news_sm')\n",
    "\n",
    "# Pandas\n",
    "import pandas as pd"
   ]
  },
  {
   "cell_type": "code",
   "execution_count": 2,
   "id": "5e3318a4",
   "metadata": {},
   "outputs": [],
   "source": [
    "url = 'https://www.xataka.com/cine-y-tv/traca-final-anillos-poder-reune-todas-virtudes-pocas-defectos-muchos-serie'"
   ]
  },
  {
   "cell_type": "code",
   "execution_count": 3,
   "id": "b3c84aab",
   "metadata": {},
   "outputs": [],
   "source": [
    "request = urllib.request.urlopen(url)\n",
    "html = request.read()"
   ]
  },
  {
   "cell_type": "code",
   "execution_count": 4,
   "id": "a39b53de",
   "metadata": {},
   "outputs": [
    {
     "name": "stdout",
     "output_type": "stream",
     "text": [
      "Volvo ha hecho historia lanzando su coche más sostenible: así ha fabricado el Volvo EX30Los ajustes que debes tener en cuenta para configurar tu TV y tu barra de sonidoSeis avances tecnológicos que pesan a la hora de decantarse por un cocheSuscríbete a \"Xatakaletter\"Recibe nuestra newsletter semanal exclusiva\n",
      "   \n",
      "\n",
      "Suscribir\n",
      "Hay una serie de detalles en el último episodio de 'El Señor de los Anillos: Los Anillos de Poder' que hablan de las fortale\n"
     ]
    }
   ],
   "source": [
    "soup = BeautifulSoup(html, \"html.parser\")\n",
    "paragraphs = soup.find_all('p') # we get all paragraphs\n",
    "\n",
    "web = ''\n",
    "for paragraph in paragraphs:\n",
    "    web = web + paragraph.get_text()\n",
    "\n",
    "print(web[:450])"
   ]
  },
  {
   "cell_type": "code",
   "execution_count": 5,
   "id": "93edf0e4",
   "metadata": {},
   "outputs": [],
   "source": [
    "def text_density(content, clean):\n",
    "      \n",
    "    # Tokenizar    \n",
    "    tokens = [word.lower() for word in word_tokenize(content, \"spanish\") if word.isalpha()]\n",
    "    \n",
    "    # Eliminar stopwords\n",
    "    clean_tokens = tokens[:]\n",
    "    for token in tokens: \n",
    "        if token in stopwords.words('spanish'): \n",
    "            clean_tokens.remove(token)\n",
    "    \n",
    "    # Lematization\n",
    "    cleaned_tokens =[]\n",
    "    \n",
    "    if clean:\n",
    "        # Lemmatize if clean is true\n",
    "        separator = ' '\n",
    "        for token in nlp(separator.join(clean_tokens)):\n",
    "            cleaned_tokens.append(token.lemma_)\n",
    "    else:\n",
    "\n",
    "        cleaned_tokens = clean_tokens\n",
    "        \n",
    "    # Table generation\n",
    "    conteo= pd.DataFrame(columns = ['Palabra', 'Recuento', 'Densidad'])\n",
    "    \n",
    "    # Calculating the frequency\n",
    "    freq_clean = nltk.FreqDist(cleaned_tokens)\n",
    "\n",
    "    for key,val in freq_clean.items():\n",
    "        \n",
    "        dens = \"{:.2%}\".format(val/len(cleaned_tokens))\n",
    "        fila = pd.Series([key, \"{:.0f}\".format(val), dens], index=conteo.columns)\n",
    "        conteo = conteo.append(fila, ignore_index=True)\n",
    "    \n",
    "    \n",
    "    \n",
    "    result = conteo.sort_values('Densidad',ascending=False)\n",
    "    \n",
    "    return result"
   ]
  },
  {
   "cell_type": "code",
   "execution_count": 6,
   "id": "21010692",
   "metadata": {},
   "outputs": [
    {
     "data": {
      "text/html": [
       "<div>\n",
       "<style scoped>\n",
       "    .dataframe tbody tr th:only-of-type {\n",
       "        vertical-align: middle;\n",
       "    }\n",
       "\n",
       "    .dataframe tbody tr th {\n",
       "        vertical-align: top;\n",
       "    }\n",
       "\n",
       "    .dataframe thead th {\n",
       "        text-align: right;\n",
       "    }\n",
       "</style>\n",
       "<table border=\"1\" class=\"dataframe\">\n",
       "  <thead>\n",
       "    <tr style=\"text-align: right;\">\n",
       "      <th></th>\n",
       "      <th>Palabra</th>\n",
       "      <th>Recuento</th>\n",
       "      <th>Densidad</th>\n",
       "    </tr>\n",
       "  </thead>\n",
       "  <tbody>\n",
       "    <tr>\n",
       "      <th>28</th>\n",
       "      <td>serie</td>\n",
       "      <td>10</td>\n",
       "      <td>2.36%</td>\n",
       "    </tr>\n",
       "    <tr>\n",
       "      <th>33</th>\n",
       "      <td>anillo</td>\n",
       "      <td>9</td>\n",
       "      <td>2.13%</td>\n",
       "    </tr>\n",
       "    <tr>\n",
       "      <th>34</th>\n",
       "      <td>poder</td>\n",
       "      <td>7</td>\n",
       "      <td>1.65%</td>\n",
       "    </tr>\n",
       "    <tr>\n",
       "      <th>75</th>\n",
       "      <td>ver</td>\n",
       "      <td>6</td>\n",
       "      <td>1.42%</td>\n",
       "    </tr>\n",
       "    <tr>\n",
       "      <th>54</th>\n",
       "      <td>amazon</td>\n",
       "      <td>4</td>\n",
       "      <td>0.95%</td>\n",
       "    </tr>\n",
       "    <tr>\n",
       "      <th>...</th>\n",
       "      <td>...</td>\n",
       "      <td>...</td>\n",
       "      <td>...</td>\n",
       "    </tr>\n",
       "    <tr>\n",
       "      <th>136</th>\n",
       "      <td>presupuestaria</td>\n",
       "      <td>1</td>\n",
       "      <td>0.24%</td>\n",
       "    </tr>\n",
       "    <tr>\n",
       "      <th>137</th>\n",
       "      <td>bien</td>\n",
       "      <td>1</td>\n",
       "      <td>0.24%</td>\n",
       "    </tr>\n",
       "    <tr>\n",
       "      <th>138</th>\n",
       "      <td>sentar</td>\n",
       "      <td>1</td>\n",
       "      <td>0.24%</td>\n",
       "    </tr>\n",
       "    <tr>\n",
       "      <th>139</th>\n",
       "      <td>fantasía</td>\n",
       "      <td>1</td>\n",
       "      <td>0.24%</td>\n",
       "    </tr>\n",
       "    <tr>\n",
       "      <th>317</th>\n",
       "      <td>vídeo</td>\n",
       "      <td>1</td>\n",
       "      <td>0.24%</td>\n",
       "    </tr>\n",
       "  </tbody>\n",
       "</table>\n",
       "<p>318 rows × 3 columns</p>\n",
       "</div>"
      ],
      "text/plain": [
       "            Palabra Recuento Densidad\n",
       "28            serie       10    2.36%\n",
       "33           anillo        9    2.13%\n",
       "34            poder        7    1.65%\n",
       "75              ver        6    1.42%\n",
       "54           amazon        4    0.95%\n",
       "..              ...      ...      ...\n",
       "136  presupuestaria        1    0.24%\n",
       "137            bien        1    0.24%\n",
       "138          sentar        1    0.24%\n",
       "139        fantasía        1    0.24%\n",
       "317           vídeo        1    0.24%\n",
       "\n",
       "[318 rows x 3 columns]"
      ]
     },
     "execution_count": 6,
     "metadata": {},
     "output_type": "execute_result"
    }
   ],
   "source": [
    "text_density(web, True)"
   ]
  }
 ],
 "metadata": {
  "kernelspec": {
   "display_name": "Python 3 (ipykernel)",
   "language": "python",
   "name": "python3"
  },
  "language_info": {
   "codemirror_mode": {
    "name": "ipython",
    "version": 3
   },
   "file_extension": ".py",
   "mimetype": "text/x-python",
   "name": "python",
   "nbconvert_exporter": "python",
   "pygments_lexer": "ipython3",
   "version": "3.9.12"
  }
 },
 "nbformat": 4,
 "nbformat_minor": 5
}
